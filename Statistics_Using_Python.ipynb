{
 "cells": [
  {
   "cell_type": "markdown",
   "id": "2bc641eb",
   "metadata": {},
   "source": [
    "## T-test"
   ]
  },
  {
   "cell_type": "markdown",
   "id": "6e451ee0",
   "metadata": {},
   "source": [
    "T-test is a inferential statistics which is used to determine if there is a significant difference between the mean of two group which may be realted in certain features\n",
    "\n",
    "T-test have two type\n",
    "1. One sample T-test  2. Two sample T-test"
   ]
  },
  {
   "cell_type": "markdown",
   "id": "130bee88",
   "metadata": {},
   "source": [
    "### One-sample T-test with Python\n",
    "\n",
    "The test will tell us whether means of the sample and the population are different\n",
    "\n",
    "image.png"
   ]
  },
  {
   "cell_type": "code",
   "execution_count": 2,
   "id": "d0cde261",
   "metadata": {},
   "outputs": [],
   "source": [
    "ages=[10,20,35,50,28,40,55,18,16,55,30,25,43,18,30,28,14,24,16,17,32,35,26,27,65,18,43,23,21,20,19,70]"
   ]
  },
  {
   "cell_type": "code",
   "execution_count": 3,
   "id": "6b634ef3",
   "metadata": {},
   "outputs": [
    {
     "data": {
      "text/plain": [
       "32"
      ]
     },
     "execution_count": 3,
     "metadata": {},
     "output_type": "execute_result"
    }
   ],
   "source": [
    "len(ages)"
   ]
  },
  {
   "cell_type": "code",
   "execution_count": 4,
   "id": "d985d269",
   "metadata": {},
   "outputs": [
    {
     "name": "stdout",
     "output_type": "stream",
     "text": [
      "30.34375\n"
     ]
    }
   ],
   "source": [
    "import numpy as np\n",
    "ages_mean=np.mean(ages)\n",
    "print(ages_mean)\n",
    "     "
   ]
  },
  {
   "cell_type": "code",
   "execution_count": 5,
   "id": "1cd9683a",
   "metadata": {},
   "outputs": [],
   "source": [
    "## Lests take the sample\n",
    "\n",
    "sample_size=10\n",
    "age_sample=np.random.choice(ages,sample_size)\n"
   ]
  },
  {
   "cell_type": "code",
   "execution_count": 6,
   "id": "96ab950f",
   "metadata": {},
   "outputs": [
    {
     "data": {
      "text/plain": [
       "array([20, 27, 28, 20, 35, 10, 28, 28, 20, 24])"
      ]
     },
     "execution_count": 6,
     "metadata": {},
     "output_type": "execute_result"
    }
   ],
   "source": [
    "\n",
    "age_sample\n",
    "     "
   ]
  },
  {
   "cell_type": "code",
   "execution_count": 7,
   "id": "81c1d6b0",
   "metadata": {},
   "outputs": [],
   "source": [
    "from scipy.stats import ttest_1samp"
   ]
  },
  {
   "cell_type": "code",
   "execution_count": 8,
   "id": "bb4c65c3",
   "metadata": {},
   "outputs": [],
   "source": [
    "ttest,p_value=ttest_1samp(age_sample,30)"
   ]
  },
  {
   "cell_type": "code",
   "execution_count": 9,
   "id": "40e13392",
   "metadata": {},
   "outputs": [
    {
     "name": "stdout",
     "output_type": "stream",
     "text": [
      "0.02172255752764234\n"
     ]
    }
   ],
   "source": [
    "print(p_value)"
   ]
  },
  {
   "cell_type": "code",
   "execution_count": 10,
   "id": "78bf0853",
   "metadata": {},
   "outputs": [
    {
     "name": "stdout",
     "output_type": "stream",
     "text": [
      " we are rejecting null hypothesis\n"
     ]
    }
   ],
   "source": [
    "if p_value < 0.05:    # alpha value is 0.05 or 5%\n",
    "    print(\" we are rejecting null hypothesis\")\n",
    "else:\n",
    "    print(\"we are accepting null hypothesis\")"
   ]
  },
  {
   "cell_type": "markdown",
   "id": "78fdcfcd",
   "metadata": {},
   "source": [
    "## Some More Examples"
   ]
  },
  {
   "cell_type": "code",
   "execution_count": 11,
   "id": "0c5a320b",
   "metadata": {},
   "outputs": [],
   "source": [
    "import pandas as pd\n",
    "import numpy as np\n",
    "import scipy.stats as stats\n",
    "import math\n",
    "np.random.seed(6) "
   ]
  },
  {
   "cell_type": "code",
   "execution_count": 12,
   "id": "9eb45a54",
   "metadata": {},
   "outputs": [],
   "source": [
    "school_ages=stats.poisson.rvs(loc=18,mu=35,size=1500)\n",
    "classA_ages=stats.poisson.rvs(loc=18,mu=30,size=60)\n"
   ]
  },
  {
   "cell_type": "code",
   "execution_count": 13,
   "id": "38c8fd09",
   "metadata": {},
   "outputs": [
    {
     "data": {
      "text/plain": [
       "46.9"
      ]
     },
     "execution_count": 13,
     "metadata": {},
     "output_type": "execute_result"
    }
   ],
   "source": [
    "classA_ages.mean()"
   ]
  },
  {
   "cell_type": "code",
   "execution_count": 15,
   "id": "ac35199a",
   "metadata": {},
   "outputs": [],
   "source": [
    "from scipy.stats import ttest_1samp"
   ]
  },
  {
   "cell_type": "code",
   "execution_count": 17,
   "id": "fe02fa05",
   "metadata": {},
   "outputs": [],
   "source": [
    "_,p_value=ttest_1samp(classA_ages,school_ages.mean())"
   ]
  },
  {
   "cell_type": "code",
   "execution_count": 18,
   "id": "a0f3cb5e",
   "metadata": {},
   "outputs": [
    {
     "data": {
      "text/plain": [
       "1.139027071016194e-13"
      ]
     },
     "execution_count": 18,
     "metadata": {},
     "output_type": "execute_result"
    }
   ],
   "source": [
    "p_value"
   ]
  },
  {
   "cell_type": "code",
   "execution_count": 19,
   "id": "d7379847",
   "metadata": {},
   "outputs": [
    {
     "name": "stdout",
     "output_type": "stream",
     "text": [
      " we are rejecting null hypothesis\n"
     ]
    }
   ],
   "source": [
    "if p_value < 0.05:    # alpha value is 0.05 or 5%\n",
    "    print(\" we are rejecting null hypothesis\")\n",
    "else:\n",
    "    print(\"we are accepting null hypothesis\")"
   ]
  },
  {
   "cell_type": "markdown",
   "id": "e56ff3b1",
   "metadata": {},
   "source": [
    "## Two sample Ttest using Python"
   ]
  },
  {
   "cell_type": "markdown",
   "id": "aa761d49",
   "metadata": {},
   "source": [
    "The independent sample Ttest or 2 sample Ttest compares the mean of two independent groups in order to determine whether their is statistical evidence that associate population mean are significantly different\n"
   ]
  },
  {
   "cell_type": "code",
   "execution_count": 42,
   "id": "5ab650d3",
   "metadata": {},
   "outputs": [
    {
     "data": {
      "text/plain": [
       "45"
      ]
     },
     "execution_count": 42,
     "metadata": {},
     "output_type": "execute_result"
    }
   ],
   "source": [
    "\n"
   ]
  },
  {
   "cell_type": "code",
   "execution_count": null,
   "id": "eddcbcb8",
   "metadata": {},
   "outputs": [],
   "source": []
  },
  {
   "cell_type": "code",
   "execution_count": null,
   "id": "b5e94097",
   "metadata": {},
   "outputs": [],
   "source": []
  }
 ],
 "metadata": {
  "kernelspec": {
   "display_name": "Python 3 (ipykernel)",
   "language": "python",
   "name": "python3"
  },
  "language_info": {
   "codemirror_mode": {
    "name": "ipython",
    "version": 3
   },
   "file_extension": ".py",
   "mimetype": "text/x-python",
   "name": "python",
   "nbconvert_exporter": "python",
   "pygments_lexer": "ipython3",
   "version": "3.9.13"
  }
 },
 "nbformat": 4,
 "nbformat_minor": 5
}
